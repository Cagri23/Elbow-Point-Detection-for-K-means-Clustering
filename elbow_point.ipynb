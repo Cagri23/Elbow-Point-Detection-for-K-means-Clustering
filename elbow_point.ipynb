{
 "cells": [
  {
   "cell_type": "code",
   "execution_count": 1,
   "metadata": {
    "collapsed": true
   },
   "outputs": [],
   "source": [
    "#IMPORT LIBRARIES\n",
    "import numpy as np\n",
    "from sklearn.cluster import KMeans\n",
    "from sklearn import datasets"
   ]
  },
  {
   "cell_type": "code",
   "execution_count": 2,
   "metadata": {
    "collapsed": true
   },
   "outputs": [],
   "source": [
    "#LOAD IRIS DATASET\n",
    "iris=datasets.load_iris()\n",
    "x=iris.data\n",
    "target=iris.target"
   ]
  },
  {
   "cell_type": "code",
   "execution_count": 3,
   "metadata": {
    "collapsed": true
   },
   "outputs": [],
   "source": [
    "def cluster_variance(n):\n",
    "    variances=[]\n",
    "    kmeans=[]\n",
    "    outputs=[]\n",
    "    K=[i for i in range(1,n+1)]\n",
    "    for i in range(1,n+1):\n",
    "        variance=0\n",
    "        model=KMeans(n_clusters=i,random_state=82).fit(x)\n",
    "        kmeans.append(model)\n",
    "        \n",
    "        variances.append(model.inertia_)\n",
    "        \n",
    "    return variances,K,n\n",
    "\n",
    "        "
   ]
  },
  {
   "cell_type": "code",
   "execution_count": 5,
   "metadata": {},
   "outputs": [],
   "source": [
    "import matplotlib.pyplot as plt\n",
    "\n",
    "variances,K,n=cluster_variance(10)"
   ]
  },
  {
   "cell_type": "code",
   "execution_count": 6,
   "metadata": {},
   "outputs": [
    {
     "data": {
      "image/png": "[encoded data removed]",
      "text/plain": [
       "<Figure size 432x288 with 1 Axes>"
      ]
     },
     "metadata": {},
     "output_type": "display_data"
    }
   ],
   "source": [
    "plt.plot(K,variances)\n",
    "plt.ylabel(\"Variance\")\n",
    "plt.xlabel(\"K Value\")\n",
    "plt.xticks([i for i in range(1,n+1)])\n",
    "plt.show()"
   ]
  }
 ],
 "metadata": {
  "kernelspec": {
   "display_name": "Python 3",
   "language": "python",
   "name": "python3"
  },
  "language_info": {
   "codemirror_mode": {
    "name": "ipython",
    "version": 3
   },
   "file_extension": ".py",
   "mimetype": "text/x-python",
   "name": "python",
   "nbconvert_exporter": "python",
   "pygments_lexer": "ipython3",
   "version": "3.6.3"
  }
 },
 "nbformat": 4,
 "nbformat_minor": 2
}
